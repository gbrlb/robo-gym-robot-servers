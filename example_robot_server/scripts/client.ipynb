{
 "cells": [
  {
   "cell_type": "code",
   "execution_count": 1,
   "id": "dangerous-given",
   "metadata": {},
   "outputs": [],
   "source": [
    "#!/usr/bin/env python\n",
    "#example\n",
    "import grpc\n",
    "import rospy\n",
    "from concurrent import futures\n",
    "# import the publisher and subscriber node\n",
    "from ros_bridge import RosBridge\n",
    "# import the gRPC generated classes\n",
    "from robo_gym_server_modules.robot_server.grpc_msgs.python import robot_server_pb2, robot_server_pb2_grpc\n",
    "\n",
    "class Client():\n",
    "\n",
    "    def __init__(self, server_port):\n",
    "        self.channel = grpc.insecure_channel('[::]:' + repr(server_port))\n",
    "        self.robot_server_stub = robot_server_pb2_grpc.RobotServerStub(self.channel)\n",
    "\n",
    "    def set_state(self, state):\n",
    "        # Old method, to be gradually replaced in all the stack\n",
    "        msg = self.robot_server_stub.SetState(robot_server_pb2.State(state = state), timeout = 60)\n",
    "        return msg.success\n",
    "\n",
    "    def set_state_msg(self, state_msg):\n",
    "        msg = self.robot_server_stub.SetState(state_msg, timeout = 60)\n",
    "        return msg.success\n",
    "\n",
    "    def get_state(self,):\n",
    "        # Old method, to be gradually replaced in all the stack\n",
    "        msg = self.robot_server_stub.GetState(robot_server_pb2.Empty(), timeout = 20)\n",
    "        if msg.success == 1:\n",
    "            return msg.state\n",
    "        else:\n",
    "            raise Exception('Error while retrieving state')\n",
    "\n",
    "    def get_state_msg(self,):\n",
    "        msg = self.robot_server_stub.GetState(robot_server_pb2.Empty(), timeout = 20)\n",
    "        if msg.success == 1:\n",
    "            return msg\n",
    "        else:\n",
    "            raise Exception('Error while retrieving state')\n",
    "\n",
    "    def send_action(self, action):\n",
    "        msg = self.robot_server_stub.SendAction(robot_server_pb2.Action(action = action), timeout = 20 )\n",
    "        return msg.success\n",
    "\n",
    "    def send_action_get_state(self, action):\n",
    "        msg = self.robot_server_stub.SendActionGetState(robot_server_pb2.Action(action = action), timeout = 20 )\n",
    "        if msg.success == 1:\n",
    "            return msg\n",
    "        else:\n",
    "            raise Exception('Error while retrieving state')\n"
   ]
  },
  {
   "cell_type": "code",
   "execution_count": 2,
   "id": "adjustable-auditor",
   "metadata": {},
   "outputs": [],
   "source": [
    "rospy.loginfo('Starting Example Robot Server...')\n",
    "server_port = 50051\n",
    "client = Client(server_port)\n",
    "channel = grpc.insecure_channel('[::]:' + repr(server_port))\n",
    "robot_server_stub = robot_server_pb2_grpc.RobotServerStub(channel)"
   ]
  },
  {
   "cell_type": "code",
   "execution_count": 5,
   "id": "personalized-shipping",
   "metadata": {},
   "outputs": [
    {
     "name": "stdout",
     "output_type": "stream",
     "text": [
      "state:  [-0.00029975842335261405, -7.026884850347415e-05, 0.00041807882371358573, -0.0012745736166834831]\n"
     ]
    }
   ],
   "source": [
    "state = client.get_state()\n",
    "print(\"state: \", state)"
   ]
  },
  {
   "cell_type": "code",
   "execution_count": 105,
   "id": "monthly-worth",
   "metadata": {},
   "outputs": [
    {
     "name": "stdout",
     "output_type": "stream",
     "text": [
      "state: -1.1931998415093403e-05\n",
      "state: -3.124870090687182e-06\n",
      "state: -1.6028494655984105e-06\n",
      "state: 0.00010749349894467741\n",
      "state_dict {\n",
      "  key: \"ang_vel\"\n",
      "  value: 0.00010749349894467741\n",
      "}\n",
      "state_dict {\n",
      "  key: \"lin_vel\"\n",
      "  value: -1.6028494655984105e-06\n",
      "}\n",
      "state_dict {\n",
      "  key: \"pos_x\"\n",
      "  value: -1.1931998415093403e-05\n",
      "}\n",
      "state_dict {\n",
      "  key: \"pos_y\"\n",
      "  value: -3.124870090687182e-06\n",
      "}\n",
      "success: true\n",
      "\n",
      "state:  [-1.1931998415093403e-05, -3.124870090687182e-06, -1.6028494655984105e-06, 0.00010749349894467741]\n",
      "float_params:  {}\n",
      "string_params:  {}\n",
      "state_dict:  {'pos_x': -1.1931998415093403e-05, 'pos_y': -3.124870090687182e-06, 'ang_vel': 0.00010749349894467741, 'lin_vel': -1.6028494655984105e-06}\n"
     ]
    }
   ],
   "source": [
    "get_state_msg =client.get_state_msg()\n",
    "print(get_state_msg)\n",
    "print(\"state: \",get_state_msg.state)\n",
    "print(\"float_params: \", get_state_msg.float_params)\n",
    "print(\"string_params: \", get_state_msg.string_params)\n",
    "print(\"state_dict: \", get_state_msg.state_dict)\n"
   ]
  },
  {
   "cell_type": "code",
   "execution_count": 137,
   "id": "knowing-november",
   "metadata": {},
   "outputs": [
    {
     "data": {
      "text/plain": [
       "True"
      ]
     },
     "execution_count": 137,
     "metadata": {},
     "output_type": "execute_result"
    }
   ],
   "source": [
    "action = client.send_action([2, -.5])\n",
    "action"
   ]
  },
  {
   "cell_type": "code",
   "execution_count": 109,
   "id": "reverse-seating",
   "metadata": {},
   "outputs": [
    {
     "data": {
      "text/plain": [
       "state: -2.6074518245877698e-05\n",
       "state: -3.782390649575973e-06\n",
       "state: 1.7078458768082783e-05\n",
       "state: 1.7457838112022728e-05\n",
       "state_dict {\n",
       "  key: \"ang_vel\"\n",
       "  value: 1.7457838112022728e-05\n",
       "}\n",
       "state_dict {\n",
       "  key: \"lin_vel\"\n",
       "  value: 1.7078458768082783e-05\n",
       "}\n",
       "state_dict {\n",
       "  key: \"pos_x\"\n",
       "  value: -2.6074518245877698e-05\n",
       "}\n",
       "state_dict {\n",
       "  key: \"pos_y\"\n",
       "  value: -3.782390649575973e-06\n",
       "}\n",
       "success: true"
      ]
     },
     "execution_count": 109,
     "metadata": {},
     "output_type": "execute_result"
    }
   ],
   "source": [
    "send_action_get_state = client.send_action_get_state([2, -5])\n",
    "send_action_get_state"
   ]
  },
  {
   "cell_type": "code",
   "execution_count": 148,
   "id": "legal-occasions",
   "metadata": {},
   "outputs": [
    {
     "data": {
      "text/plain": [
       "success: true"
      ]
     },
     "execution_count": 148,
     "metadata": {},
     "output_type": "execute_result"
    }
   ],
   "source": [
    "new_state = {'pos_x': 1.5, 'pos_y': 2}\n",
    "new_state\n",
    "new_state_msg = robot_server_pb2.State(state_dict = new_state)\n",
    "new_state_msg\n",
    "robot_server_stub.SetState(new_state_msg)"
   ]
  },
  {
   "cell_type": "code",
   "execution_count": 144,
   "id": "commercial-childhood",
   "metadata": {},
   "outputs": [
    {
     "data": {
      "text/plain": [
       "success: true"
      ]
     },
     "execution_count": 144,
     "metadata": {},
     "output_type": "execute_result"
    }
   ],
   "source": [
    "robot_server_stub.SetState(new_state_msg)"
   ]
  },
  {
   "cell_type": "code",
   "execution_count": 146,
   "id": "aging-crystal",
   "metadata": {},
   "outputs": [
    {
     "data": {
      "text/plain": [
       "success: true"
      ]
     },
     "execution_count": 146,
     "metadata": {},
     "output_type": "execute_result"
    }
   ],
   "source": [
    "# State must be dict see rosbridge\n",
    "new_state = [1, 1, 1, 1]\n",
    "new_state\n",
    "new_state_msg = robot_server_pb2.State(state = new_state)\n",
    "new_state_msg\n",
    "robot_server_stub.SetState(new_state_msg)"
   ]
  },
  {
   "cell_type": "code",
   "execution_count": null,
   "id": "adverse-colombia",
   "metadata": {},
   "outputs": [],
   "source": []
  }
 ],
 "metadata": {
  "kernelspec": {
   "display_name": "Python 3",
   "language": "python",
   "name": "python3"
  },
  "language_info": {
   "codemirror_mode": {
    "name": "ipython",
    "version": 3
   },
   "file_extension": ".py",
   "mimetype": "text/x-python",
   "name": "python",
   "nbconvert_exporter": "python",
   "pygments_lexer": "ipython3",
   "version": "3.8.10"
  }
 },
 "nbformat": 4,
 "nbformat_minor": 5
}
