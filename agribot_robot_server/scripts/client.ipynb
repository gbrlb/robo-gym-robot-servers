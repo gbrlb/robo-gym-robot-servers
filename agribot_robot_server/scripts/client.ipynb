{
 "cells": [
  {
   "cell_type": "code",
   "execution_count": 388,
   "metadata": {},
   "outputs": [],
   "source": [
    "#!/usr/bin/env python\n",
    "#example\n",
    "import grpc\n",
    "import rospy\n",
    "from concurrent import futures\n",
    "# import the publisher and subscriber node\n",
    "from ros_bridge import RosBridge\n",
    "# import the gRPC generated classes\n",
    "from robo_gym_server_modules.robot_server.grpc_msgs.python import robot_server_pb2, robot_server_pb2_grpc\n",
    "\n",
    "class Client():\n",
    "\n",
    "    def __init__(self, server_port):\n",
    "        self.channel = grpc.insecure_channel('[::]:' + repr(server_port))\n",
    "        self.robot_server_stub = robot_server_pb2_grpc.RobotServerStub(self.channel)\n",
    "\n",
    "    def set_state(self, state):\n",
    "        # Old method, to be gradually replaced in all the stack\n",
    "        msg = self.robot_server_stub.SetState(robot_server_pb2.State(state = state), timeout = 60)\n",
    "        return msg.success\n",
    "\n",
    "    def set_state_msg(self, state_msg):\n",
    "        msg = self.robot_server_stub.SetState(state_msg, timeout = 60)\n",
    "        return msg.success\n",
    "\n",
    "    def get_state(self,):\n",
    "        # Old method, to be gradually replaced in all the stack\n",
    "        msg = self.robot_server_stub.GetState(robot_server_pb2.Empty(), timeout = 20)\n",
    "        if msg.success == 1:\n",
    "            return msg.state\n",
    "        else:\n",
    "            raise Exception('Error while retrieving state')\n",
    "\n",
    "    def get_state_msg(self,):\n",
    "        msg = self.robot_server_stub.GetState(robot_server_pb2.Empty(), timeout = 20)\n",
    "        if msg.success == 1:\n",
    "            return msg\n",
    "        else:\n",
    "            raise Exception('Error while retrieving state')\n",
    "\n",
    "    def send_action(self, action):\n",
    "        msg = self.robot_server_stub.SendAction(robot_server_pb2.Action(action = action), timeout = 20 )\n",
    "        return msg.success\n",
    "\n",
    "    def send_action_get_state(self, action):\n",
    "        msg = self.robot_server_stub.SendActionGetState(robot_server_pb2.Action(action = action), timeout = 20 )\n",
    "        if msg.success == 1:\n",
    "            return msg\n",
    "        else:\n",
    "            raise Exception('Error while retrieving state')\n"
   ]
  },
  {
   "cell_type": "code",
   "execution_count": 389,
   "metadata": {},
   "outputs": [],
   "source": [
    "rospy.loginfo('Starting Example Robot Server...')\n",
    "server_port = 50051\n",
    "client = Client(server_port)\n",
    "channel = grpc.insecure_channel('[::]:' + repr(server_port))\n",
    "robot_server_stub = robot_server_pb2_grpc.RobotServerStub(channel)"
   ]
  },
  {
   "cell_type": "code",
   "execution_count": 15,
   "metadata": {},
   "outputs": [
    {
     "name": "stdout",
     "output_type": "stream",
     "text": [
      "state:  [0.2546505331993103, -0.7181203961372375, -1.1508787870407104, 0.7403168678283691, 0.004182456061244011, 0.1120019182562828, -0.21588945388793945, -0.2701323926448822, -0.001399481319822371, 0.0015176599845290184, -0.005273917689919472, 0.0025401096791028976, 7.659690709260758e-06, -0.0001162272019428201, 0.00024791431496851146, 0.00015039996651466936]\n"
     ]
    }
   ],
   "source": [
    "state = client.get_state()\n",
    "print(\"state: \", state)"
   ]
  },
  {
   "cell_type": "code",
   "execution_count": 6,
   "metadata": {},
   "outputs": [
    {
     "name": "stdout",
     "output_type": "stream",
     "text": [
      "state: -0.04027082398533821\n",
      "state: -0.6972288489341736\n",
      "state: -0.7374358773231506\n",
      "state: 0.9174924492835999\n",
      "state: -0.04152611643075943\n",
      "state: 0.012637495994567871\n",
      "state: -0.11190915107727051\n",
      "state: -0.13079914450645447\n",
      "state: 0.005225419532507658\n",
      "state: 0.0012128078378736973\n",
      "state: 0.0059148347936570644\n",
      "state: -0.0009095278801396489\n",
      "state: 9.332344461654429e-07\n",
      "state: -0.0008182747405953705\n",
      "state: -0.0004433365538716316\n",
      "state: -7.56235203880351e-06\n",
      "state_dict {\n",
      "  key: \"front_left_steering_joint_position\"\n",
      "  value: -0.04027082398533821\n",
      "}\n",
      "state_dict {\n",
      "  key: \"front_left_steering_joint_velocity\"\n",
      "  value: 0.005225419532507658\n",
      "}\n",
      "state_dict {\n",
      "  key: \"front_left_wheel_joint_position\"\n",
      "  value: -0.04152611643075943\n",
      "}\n",
      "state_dict {\n",
      "  key: \"front_left_wheel_joint_velocity\"\n",
      "  value: 9.332344461654429e-07\n",
      "}\n",
      "state_dict {\n",
      "  key: \"front_right_steering_joint_position\"\n",
      "  value: -0.6972288489341736\n",
      "}\n",
      "state_dict {\n",
      "  key: \"front_right_steering_joint_velocity\"\n",
      "  value: 0.0012128078378736973\n",
      "}\n",
      "state_dict {\n",
      "  key: \"front_right_wheel_joint_position\"\n",
      "  value: 0.012637495994567871\n",
      "}\n",
      "state_dict {\n",
      "  key: \"front_right_wheel_joint_velocity\"\n",
      "  value: -0.0008182747405953705\n",
      "}\n",
      "state_dict {\n",
      "  key: \"rear_left_steering_joint_position\"\n",
      "  value: -0.7374358773231506\n",
      "}\n",
      "state_dict {\n",
      "  key: \"rear_left_steering_joint_velocity\"\n",
      "  value: 0.0059148347936570644\n",
      "}\n",
      "state_dict {\n",
      "  key: \"rear_left_wheel_joint_position\"\n",
      "  value: -0.11190915107727051\n",
      "}\n",
      "state_dict {\n",
      "  key: \"rear_left_wheel_joint_velocity\"\n",
      "  value: -0.0004433365538716316\n",
      "}\n",
      "state_dict {\n",
      "  key: \"rear_right_steering_joint_position\"\n",
      "  value: 0.9174924492835999\n",
      "}\n",
      "state_dict {\n",
      "  key: \"rear_right_steering_joint_velocity\"\n",
      "  value: -0.0009095278801396489\n",
      "}\n",
      "state_dict {\n",
      "  key: \"rear_right_wheel_joint_position\"\n",
      "  value: -0.13079914450645447\n",
      "}\n",
      "state_dict {\n",
      "  key: \"rear_right_wheel_joint_velocity\"\n",
      "  value: -7.56235203880351e-06\n",
      "}\n",
      "success: true\n",
      "\n",
      "state:  [-0.04027082398533821, -0.6972288489341736, -0.7374358773231506, 0.9174924492835999, -0.04152611643075943, 0.012637495994567871, -0.11190915107727051, -0.13079914450645447, 0.005225419532507658, 0.0012128078378736973, 0.0059148347936570644, -0.0009095278801396489, 9.332344461654429e-07, -0.0008182747405953705, -0.0004433365538716316, -7.56235203880351e-06]\n",
      "float_params:  {}\n",
      "string_params:  {}\n",
      "state_dict:  {'front_right_wheel_joint_velocity': -0.0008182747405953705, 'rear_left_wheel_joint_velocity': -0.0004433365538716316, 'front_left_steering_joint_position': -0.04027082398533821, 'front_left_wheel_joint_position': -0.04152611643075943, 'front_left_steering_joint_velocity': 0.005225419532507658, 'rear_left_steering_joint_position': -0.7374358773231506, 'front_left_wheel_joint_velocity': 9.332344461654429e-07, 'rear_right_wheel_joint_velocity': -7.56235203880351e-06, 'rear_right_wheel_joint_position': -0.13079914450645447, 'rear_right_steering_joint_position': 0.9174924492835999, 'front_right_steering_joint_position': -0.6972288489341736, 'front_right_steering_joint_velocity': 0.0012128078378736973, 'rear_left_wheel_joint_position': -0.11190915107727051, 'rear_left_steering_joint_velocity': 0.0059148347936570644, 'front_right_wheel_joint_position': 0.012637495994567871, 'rear_right_steering_joint_velocity': -0.0009095278801396489}\n"
     ]
    }
   ],
   "source": [
    "get_state_msg =client.get_state_msg()\n",
    "print(get_state_msg)\n",
    "print(\"state: \",get_state_msg.state)\n",
    "print(\"float_params: \", get_state_msg.float_params)\n",
    "print(\"string_params: \", get_state_msg.string_params)\n",
    "print(\"state_dict: \", get_state_msg.state_dict)\n"
   ]
  },
  {
   "cell_type": "markdown",
   "id": "4bca74b9",
   "metadata": {},
   "source": [
    "### set state"
   ]
  },
  {
   "cell_type": "code",
   "execution_count": 211,
   "id": "51c1bf8c",
   "metadata": {},
   "outputs": [
    {
     "name": "stdout",
     "output_type": "stream",
     "text": [
      "{'front_left_steering_link': 0.0, 'front_right_steering_link': 0.0, 'rear_left_steering_link': 0.0, 'rear_right_steering_link': 0.0, 'front_left_wheel_link': 0.0, 'front_right_wheel_link': 0.0, 'rear_left_wheel_link': 0.0, 'rear_right_wheel_link': 0.0}\n"
     ]
    }
   ],
   "source": [
    "import numpy as np\n",
    "link_names = [ 'front_left_steering_link', 'front_right_steering_link', 'rear_left_steering_link', 'rear_right_steering_link', 'front_left_wheel_link', 'front_right_wheel_link', 'rear_left_wheel_link', 'rear_right_wheel_link']\n",
    "link_state = dict.fromkeys(link_names, np.deg2rad(0))\n",
    "print(link_state)"
   ]
  },
  {
   "cell_type": "code",
   "execution_count": 49,
   "id": "5752f6c3",
   "metadata": {},
   "outputs": [
    {
     "data": {
      "text/plain": [
       "{'front_left_steering_link': [1, 1],\n",
       " 'front_right_steering_link': [1, -1],\n",
       " 'rear_left_steering_link': [-1, 1],\n",
       " 'rear_right_steering_link': [-1, -1]}"
      ]
     },
     "execution_count": 49,
     "metadata": {},
     "output_type": "execute_result"
    }
   ],
   "source": [
    "links = {'front_left_steering_link': [1, 1],\n",
    "\t                    'front_right_steering_link': [1, -1],\n",
    "\t                    'rear_left_steering_link': [-1, 1],\n",
    "\t                    'rear_right_steering_link': [-1, -1] }\n",
    "links"
   ]
  },
  {
   "cell_type": "code",
   "execution_count": 254,
   "id": "e3f7d8dd",
   "metadata": {},
   "outputs": [
    {
     "name": "stdout",
     "output_type": "stream",
     "text": [
      "<class 'robot_server_pb2.State'>\n"
     ]
    },
    {
     "data": {
      "text/plain": [
       "True"
      ]
     },
     "execution_count": 254,
     "metadata": {},
     "output_type": "execute_result"
    }
   ],
   "source": [
    "\n",
    "# state_msg = robot_server_pb2.State(state_dict = client.get_state_msg().state_dict)\n",
    "# link_state = {'rear_right_steering_link': 0}\n",
    "link_state_msg = robot_server_pb2.State(state_dict=link_state)\n",
    "print(type(link_state_msg))\n",
    "client.set_state_msg(link_state_msg)\n"
   ]
  },
  {
   "cell_type": "markdown",
   "id": "6efdccb6",
   "metadata": {},
   "source": [
    "### send action"
   ]
  },
  {
   "cell_type": "code",
   "execution_count": 415,
   "metadata": {},
   "outputs": [
    {
     "data": {
      "text/plain": [
       "True"
      ]
     },
     "execution_count": 415,
     "metadata": {},
     "output_type": "execute_result"
    }
   ],
   "source": [
    "action = client.send_action([100, -500, 40, -500])\n",
    "action"
   ]
  },
  {
   "cell_type": "code",
   "execution_count": 277,
   "id": "4194e437",
   "metadata": {},
   "outputs": [
    {
     "data": {
      "text/plain": [
       "False"
      ]
     },
     "execution_count": 277,
     "metadata": {},
     "output_type": "execute_result"
    }
   ],
   "source": [
    "['front_left_steering_joint', 'front_left_wheel_joint', 'front_right_steering_joint', 'front_right_wheel_joint', 'rear_left_steering_joint', 'rear_left_wheel_joint', 'rear_right_steering_joint', 'rear_right_wheel_joint']"
   ]
  },
  {
   "cell_type": "code",
   "execution_count": null,
   "metadata": {},
   "outputs": [],
   "source": [
    "send_action_get_state = client.send_action_get_state([1, -.2])\n",
    "send_action_get_state"
   ]
  },
  {
   "cell_type": "code",
   "execution_count": 271,
   "metadata": {},
   "outputs": [
    {
     "data": {
      "text/plain": [
       "success: true"
      ]
     },
     "execution_count": 271,
     "metadata": {},
     "output_type": "execute_result"
    }
   ],
   "source": [
    "new_state = {'pos_x': 1.5, 'pos_y': 2}\n",
    "new_state\n",
    "new_state_msg = robot_server_pb2.State(state_dict = new_state)\n",
    "new_state_msg\n",
    "robot_server_stub.SetState(new_state_msg)"
   ]
  },
  {
   "cell_type": "code",
   "execution_count": null,
   "metadata": {},
   "outputs": [],
   "source": [
    "# State must be dict see rosbridge\n",
    "new_state = [1, 1, 1, 1]\n",
    "new_state\n",
    "new_state_msg = robot_server_pb2.State(state = new_state)\n",
    "new_state_msg\n",
    "robot_server_stub.SetState(new_state_msg)"
   ]
  }
 ],
 "metadata": {
  "interpreter": {
   "hash": "31f2aee4e71d21fbe5cf8b01ff0e069b9275f58929596ceb00d14d90e3e16cd6"
  },
  "kernelspec": {
   "display_name": "Python 3.8.10 64-bit",
   "name": "python3"
  },
  "language_info": {
   "codemirror_mode": {
    "name": "ipython",
    "version": 3
   },
   "file_extension": ".py",
   "mimetype": "text/x-python",
   "name": "python",
   "nbconvert_exporter": "python",
   "pygments_lexer": "ipython3",
   "version": "3.8.10"
  }
 },
 "nbformat": 4,
 "nbformat_minor": 5
}
