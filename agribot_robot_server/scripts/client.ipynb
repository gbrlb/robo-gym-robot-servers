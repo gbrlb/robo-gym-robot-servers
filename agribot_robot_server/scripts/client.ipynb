{
 "cells": [
  {
   "cell_type": "code",
   "execution_count": 3,
   "source": [
    "#!/usr/bin/env python\n",
    "#example\n",
    "import grpc\n",
    "import rospy\n",
    "from concurrent import futures\n",
    "# import the publisher and subscriber node\n",
    "from ros_bridge import RosBridge\n",
    "# import the gRPC generated classes\n",
    "from robo_gym_server_modules.robot_server.grpc_msgs.python import robot_server_pb2, robot_server_pb2_grpc\n",
    "\n",
    "class Client():\n",
    "\n",
    "    def __init__(self, server_port):\n",
    "        self.channel = grpc.insecure_channel('[::]:' + repr(server_port))\n",
    "        self.robot_server_stub = robot_server_pb2_grpc.RobotServerStub(self.channel)\n",
    "\n",
    "    def set_state(self, state):\n",
    "        # Old method, to be gradually replaced in all the stack\n",
    "        msg = self.robot_server_stub.SetState(robot_server_pb2.State(state = state), timeout = 60)\n",
    "        return msg.success\n",
    "\n",
    "    def set_state_msg(self, state_msg):\n",
    "        msg = self.robot_server_stub.SetState(state_msg, timeout = 60)\n",
    "        return msg.success\n",
    "\n",
    "    def get_state(self,):\n",
    "        # Old method, to be gradually replaced in all the stack\n",
    "        msg = self.robot_server_stub.GetState(robot_server_pb2.Empty(), timeout = 20)\n",
    "        if msg.success == 1:\n",
    "            return msg.state\n",
    "        else:\n",
    "            raise Exception('Error while retrieving state')\n",
    "\n",
    "    def get_state_msg(self,):\n",
    "        msg = self.robot_server_stub.GetState(robot_server_pb2.Empty(), timeout = 20)\n",
    "        if msg.success == 1:\n",
    "            return msg\n",
    "        else:\n",
    "            raise Exception('Error while retrieving state')\n",
    "\n",
    "    def send_action(self, action):\n",
    "        msg = self.robot_server_stub.SendAction(robot_server_pb2.Action(action = action), timeout = 20 )\n",
    "        return msg.success\n",
    "\n",
    "    def send_action_get_state(self, action):\n",
    "        msg = self.robot_server_stub.SendActionGetState(robot_server_pb2.Action(action = action), timeout = 20 )\n",
    "        if msg.success == 1:\n",
    "            return msg\n",
    "        else:\n",
    "            raise Exception('Error while retrieving state')\n"
   ],
   "outputs": [],
   "metadata": {}
  },
  {
   "cell_type": "code",
   "execution_count": 6,
   "source": [
    "rospy.loginfo('Starting Example Robot Server...')\n",
    "server_port = 50051\n",
    "client = Client(server_port)\n",
    "channel = grpc.insecure_channel('[::]:' + repr(server_port))\n",
    "robot_server_stub = robot_server_pb2_grpc.RobotServerStub(channel)"
   ],
   "outputs": [],
   "metadata": {}
  },
  {
   "cell_type": "code",
   "execution_count": 7,
   "source": [
    "state = client.get_state()\n",
    "print(\"state: \", state)"
   ],
   "outputs": [
    {
     "output_type": "stream",
     "name": "stdout",
     "text": [
      "state:  [-0.029210390523076057, -0.002061496488749981, 0.0, 0.0]\n"
     ]
    }
   ],
   "metadata": {}
  },
  {
   "cell_type": "code",
   "execution_count": 8,
   "source": [
    "get_state_msg =client.get_state_msg()\n",
    "print(get_state_msg)\n",
    "print(\"state: \",get_state_msg.state)\n",
    "print(\"float_params: \", get_state_msg.float_params)\n",
    "print(\"string_params: \", get_state_msg.string_params)\n",
    "print(\"state_dict: \", get_state_msg.state_dict)\n"
   ],
   "outputs": [
    {
     "output_type": "stream",
     "name": "stdout",
     "text": [
      "state: -0.030428683385252953\n",
      "state: -0.0021111760288476944\n",
      "state: 0.0\n",
      "state: 0.0\n",
      "state_dict {\n",
      "  key: \"ang_vel\"\n",
      "  value: 0.0\n",
      "}\n",
      "state_dict {\n",
      "  key: \"lin_vel\"\n",
      "  value: 0.0\n",
      "}\n",
      "state_dict {\n",
      "  key: \"pos_x\"\n",
      "  value: -0.030428683385252953\n",
      "}\n",
      "state_dict {\n",
      "  key: \"pos_y\"\n",
      "  value: -0.0021111760288476944\n",
      "}\n",
      "success: true\n",
      "\n",
      "state:  [-0.030428683385252953, -0.0021111760288476944, 0.0, 0.0]\n",
      "float_params:  {}\n",
      "string_params:  {}\n",
      "state_dict:  {'pos_x': -0.030428683385252953, 'lin_vel': 0.0, 'ang_vel': 0.0, 'pos_y': -0.0021111760288476944}\n"
     ]
    }
   ],
   "metadata": {}
  },
  {
   "cell_type": "code",
   "execution_count": 79,
   "source": [
    "action = client.send_action([1, -.1])\n",
    "action"
   ],
   "outputs": [
    {
     "output_type": "execute_result",
     "data": {
      "text/plain": [
       "True"
      ]
     },
     "metadata": {},
     "execution_count": 79
    }
   ],
   "metadata": {}
  },
  {
   "cell_type": "code",
   "execution_count": 86,
   "source": [
    "send_action_get_state = client.send_action_get_state([1, -.2])\n",
    "send_action_get_state"
   ],
   "outputs": [
    {
     "output_type": "execute_result",
     "data": {
      "text/plain": [
       "state: 9.422280311584473\n",
       "state: 7.373431205749512\n",
       "state: 0.0\n",
       "state: 0.0\n",
       "state_dict {\n",
       "  key: \"ang_vel\"\n",
       "  value: 0.0\n",
       "}\n",
       "state_dict {\n",
       "  key: \"lin_vel\"\n",
       "  value: 0.0\n",
       "}\n",
       "state_dict {\n",
       "  key: \"pos_x\"\n",
       "  value: 9.422280311584473\n",
       "}\n",
       "state_dict {\n",
       "  key: \"pos_y\"\n",
       "  value: 7.373431205749512\n",
       "}\n",
       "success: true"
      ]
     },
     "metadata": {},
     "execution_count": 86
    }
   ],
   "metadata": {}
  },
  {
   "cell_type": "code",
   "execution_count": 23,
   "source": [
    "new_state = {'pos_x': 1.5, 'pos_y': 2}\n",
    "new_state\n",
    "new_state_msg = robot_server_pb2.State(state_dict = new_state)\n",
    "new_state_msg\n",
    "robot_server_stub.SetState(new_state_msg)"
   ],
   "outputs": [
    {
     "output_type": "execute_result",
     "data": {
      "text/plain": [
       "success: true"
      ]
     },
     "metadata": {},
     "execution_count": 23
    }
   ],
   "metadata": {}
  },
  {
   "cell_type": "code",
   "execution_count": 146,
   "source": [
    "# State must be dict see rosbridge\n",
    "new_state = [1, 1, 1, 1]\n",
    "new_state\n",
    "new_state_msg = robot_server_pb2.State(state = new_state)\n",
    "new_state_msg\n",
    "robot_server_stub.SetState(new_state_msg)"
   ],
   "outputs": [
    {
     "output_type": "execute_result",
     "data": {
      "text/plain": [
       "success: true"
      ]
     },
     "metadata": {},
     "execution_count": 146
    }
   ],
   "metadata": {}
  }
 ],
 "metadata": {
  "kernelspec": {
   "name": "python3",
   "display_name": "Python 3.8.10 64-bit"
  },
  "language_info": {
   "codemirror_mode": {
    "name": "ipython",
    "version": 3
   },
   "file_extension": ".py",
   "mimetype": "text/x-python",
   "name": "python",
   "nbconvert_exporter": "python",
   "pygments_lexer": "ipython3",
   "version": "3.8.10"
  },
  "interpreter": {
   "hash": "31f2aee4e71d21fbe5cf8b01ff0e069b9275f58929596ceb00d14d90e3e16cd6"
  }
 },
 "nbformat": 4,
 "nbformat_minor": 5
}